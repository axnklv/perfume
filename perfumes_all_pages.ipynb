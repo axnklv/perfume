{
 "cells": [
  {
   "cell_type": "code",
   "execution_count": 1,
   "metadata": {
    "collapsed": true
   },
   "outputs": [],
   "source": [
    "import pandas as pd\n",
    "import requests\n",
    "from lxml import html"
   ]
  },
  {
   "cell_type": "code",
   "execution_count": 47,
   "metadata": {},
   "outputs": [],
   "source": [
    "urls = ['https://www.fragrantica.ru/designers-1/', 'https://www.fragrantica.ru/designers-2/', \n",
    "        'https://www.fragrantica.ru/designers-3/', 'https://www.fragrantica.ru/designers-4/', \n",
    "        'https://www.fragrantica.ru/designers-5/', 'https://www.fragrantica.ru/designers-6/', \n",
    "        'https://www.fragrantica.ru/designers-7/', 'https://www.fragrantica.ru/designers-8/', \n",
    "        'https://www.fragrantica.ru/designers-9/', 'https://www.fragrantica.ru/designers-10/', \n",
    "        'https://www.fragrantica.ru/designers-11/']"
   ]
  },
  {
   "cell_type": "code",
   "execution_count": 6,
   "metadata": {
    "collapsed": true
   },
   "outputs": [],
   "source": [
    "headers = {'User-Agent': 'Mozilla/5.0 (Macintosh; Intel Mac OS X 10_10_1) AppleWebKit/537.36 (KHTML, like Gecko) \\\n",
    "            Chrome/39.0.2171.95 Safari/537.36'}"
   ]
  },
  {
   "cell_type": "code",
   "execution_count": 7,
   "metadata": {
    "collapsed": true
   },
   "outputs": [],
   "source": [
    "def getDatafromPage(data):\n",
    "    voc = {}\n",
    "    for count,catalog in enumerate(data.xpath('//div[@class=\"nduList\"]')[0:]):\n",
    "        for p in catalog.xpath('p'):\n",
    "            A = {}\n",
    "            for a in p.xpath('a'):\n",
    "                A['url'] = a.attrib.get('href')\n",
    "                A['name'] = a.text_content().replace('\\n',' ')\n",
    "            voc[count] = A\n",
    "    return pd.DataFrame.from_dict(voc, orient ='index')"
   ]
  },
  {
   "cell_type": "code",
   "execution_count": 48,
   "metadata": {},
   "outputs": [
    {
     "name": "stdout",
     "output_type": "stream",
     "text": [
      "(324, 2)\n",
      "(500, 2)\n",
      "(730, 2)\n",
      "(985, 2)\n",
      "(1287, 2)\n",
      "(1570, 2)\n",
      "(1783, 2)\n",
      "(2048, 2)\n",
      "(2714, 2)\n",
      "(3098, 2)\n",
      "(3453, 2)\n"
     ]
    }
   ],
   "source": [
    "listing = pd.DataFrame()\n",
    "for url in urls:\n",
    "    page = requests.get(url, headers=headers)\n",
    "    data = html.fromstring(page.content)\n",
    "    listing = listing.append(getDatafromPage(data))\n",
    "    print(listing.shape)"
   ]
  },
  {
   "cell_type": "code",
   "execution_count": 49,
   "metadata": {},
   "outputs": [
    {
     "data": {
      "text/html": [
       "<div>\n",
       "<style>\n",
       "    .dataframe thead tr:only-child th {\n",
       "        text-align: right;\n",
       "    }\n",
       "\n",
       "    .dataframe thead th {\n",
       "        text-align: left;\n",
       "    }\n",
       "\n",
       "    .dataframe tbody tr th {\n",
       "        vertical-align: top;\n",
       "    }\n",
       "</style>\n",
       "<table border=\"1\" class=\"dataframe\">\n",
       "  <thead>\n",
       "    <tr style=\"text-align: right;\">\n",
       "      <th></th>\n",
       "      <th>url</th>\n",
       "      <th>name</th>\n",
       "    </tr>\n",
       "  </thead>\n",
       "  <tbody>\n",
       "    <tr>\n",
       "      <th>0</th>\n",
       "      <td>/designers/A-Bathing-Ape.html</td>\n",
       "      <td>A Bathing Ape</td>\n",
       "    </tr>\n",
       "    <tr>\n",
       "      <th>1</th>\n",
       "      <td>/designers/A-Beautiful-Life-Brands.html</td>\n",
       "      <td>A Beautiful Life Brands</td>\n",
       "    </tr>\n",
       "    <tr>\n",
       "      <th>2</th>\n",
       "      <td>/designers/A-Dozen-Roses.html</td>\n",
       "      <td>A Dozen Roses</td>\n",
       "    </tr>\n",
       "    <tr>\n",
       "      <th>3</th>\n",
       "      <td>/designers/A-La-Russe.html</td>\n",
       "      <td>A La Russe</td>\n",
       "    </tr>\n",
       "    <tr>\n",
       "      <th>4</th>\n",
       "      <td>/designers/A-Lab-on-Fire.html</td>\n",
       "      <td>A Lab on Fire</td>\n",
       "    </tr>\n",
       "  </tbody>\n",
       "</table>\n",
       "</div>"
      ],
      "text/plain": [
       "                                       url                        name\n",
       "0            /designers/A-Bathing-Ape.html             A Bathing Ape  \n",
       "1  /designers/A-Beautiful-Life-Brands.html   A Beautiful Life Brands  \n",
       "2            /designers/A-Dozen-Roses.html             A Dozen Roses  \n",
       "3               /designers/A-La-Russe.html                A La Russe  \n",
       "4            /designers/A-Lab-on-Fire.html             A Lab on Fire  "
      ]
     },
     "execution_count": 49,
     "metadata": {},
     "output_type": "execute_result"
    }
   ],
   "source": [
    "df = listing.copy()\n",
    "df.head()"
   ]
  },
  {
   "cell_type": "code",
   "execution_count": 50,
   "metadata": {
    "collapsed": true
   },
   "outputs": [],
   "source": [
    "df['letter'] = df['name'].str[1]"
   ]
  },
  {
   "cell_type": "code",
   "execution_count": 51,
   "metadata": {
    "collapsed": true
   },
   "outputs": [],
   "source": [
    "df = df[['letter', 'name', 'url']]"
   ]
  },
  {
   "cell_type": "code",
   "execution_count": 52,
   "metadata": {},
   "outputs": [
    {
     "data": {
      "text/html": [
       "<div>\n",
       "<style>\n",
       "    .dataframe thead tr:only-child th {\n",
       "        text-align: right;\n",
       "    }\n",
       "\n",
       "    .dataframe thead th {\n",
       "        text-align: left;\n",
       "    }\n",
       "\n",
       "    .dataframe tbody tr th {\n",
       "        vertical-align: top;\n",
       "    }\n",
       "</style>\n",
       "<table border=\"1\" class=\"dataframe\">\n",
       "  <thead>\n",
       "    <tr style=\"text-align: right;\">\n",
       "      <th></th>\n",
       "      <th>letter</th>\n",
       "      <th>name</th>\n",
       "      <th>url</th>\n",
       "    </tr>\n",
       "  </thead>\n",
       "  <tbody>\n",
       "    <tr>\n",
       "      <th>0</th>\n",
       "      <td>A</td>\n",
       "      <td>A Bathing Ape</td>\n",
       "      <td>/designers/A-Bathing-Ape.html</td>\n",
       "    </tr>\n",
       "    <tr>\n",
       "      <th>1</th>\n",
       "      <td>A</td>\n",
       "      <td>A Beautiful Life Brands</td>\n",
       "      <td>/designers/A-Beautiful-Life-Brands.html</td>\n",
       "    </tr>\n",
       "    <tr>\n",
       "      <th>2</th>\n",
       "      <td>A</td>\n",
       "      <td>A Dozen Roses</td>\n",
       "      <td>/designers/A-Dozen-Roses.html</td>\n",
       "    </tr>\n",
       "    <tr>\n",
       "      <th>3</th>\n",
       "      <td>A</td>\n",
       "      <td>A La Russe</td>\n",
       "      <td>/designers/A-La-Russe.html</td>\n",
       "    </tr>\n",
       "    <tr>\n",
       "      <th>4</th>\n",
       "      <td>A</td>\n",
       "      <td>A Lab on Fire</td>\n",
       "      <td>/designers/A-Lab-on-Fire.html</td>\n",
       "    </tr>\n",
       "    <tr>\n",
       "      <th>5</th>\n",
       "      <td>A</td>\n",
       "      <td>A Perfume Organic</td>\n",
       "      <td>/designers/A-Perfume-Organic.html</td>\n",
       "    </tr>\n",
       "    <tr>\n",
       "      <th>6</th>\n",
       "      <td>A</td>\n",
       "      <td>A Wing &amp; A Prayer Perfumes</td>\n",
       "      <td>/designers/A-Wing-%26-A-Prayer-Perfumes.html</td>\n",
       "    </tr>\n",
       "    <tr>\n",
       "      <th>7</th>\n",
       "      <td>A</td>\n",
       "      <td>A. N. OTHER</td>\n",
       "      <td>/designers/A.-N.-OTHER.html</td>\n",
       "    </tr>\n",
       "    <tr>\n",
       "      <th>8</th>\n",
       "      <td>A</td>\n",
       "      <td>A.B.R. Barlach</td>\n",
       "      <td>/designers/A.B.R.-Barlach.html</td>\n",
       "    </tr>\n",
       "    <tr>\n",
       "      <th>9</th>\n",
       "      <td>A</td>\n",
       "      <td>A.P. Durand Parfums</td>\n",
       "      <td>/designers/A.P.-Durand-Parfums.html</td>\n",
       "    </tr>\n",
       "  </tbody>\n",
       "</table>\n",
       "</div>"
      ],
      "text/plain": [
       "  letter                           name  \\\n",
       "0      A                A Bathing Ape     \n",
       "1      A      A Beautiful Life Brands     \n",
       "2      A                A Dozen Roses     \n",
       "3      A                   A La Russe     \n",
       "4      A                A Lab on Fire     \n",
       "5      A            A Perfume Organic     \n",
       "6      A   A Wing & A Prayer Perfumes     \n",
       "7      A                  A. N. OTHER     \n",
       "8      A               A.B.R. Barlach     \n",
       "9      A          A.P. Durand Parfums     \n",
       "\n",
       "                                            url  \n",
       "0                 /designers/A-Bathing-Ape.html  \n",
       "1       /designers/A-Beautiful-Life-Brands.html  \n",
       "2                 /designers/A-Dozen-Roses.html  \n",
       "3                    /designers/A-La-Russe.html  \n",
       "4                 /designers/A-Lab-on-Fire.html  \n",
       "5             /designers/A-Perfume-Organic.html  \n",
       "6  /designers/A-Wing-%26-A-Prayer-Perfumes.html  \n",
       "7                   /designers/A.-N.-OTHER.html  \n",
       "8                /designers/A.B.R.-Barlach.html  \n",
       "9           /designers/A.P.-Durand-Parfums.html  "
      ]
     },
     "execution_count": 52,
     "metadata": {},
     "output_type": "execute_result"
    }
   ],
   "source": [
    "df.head(10)"
   ]
  },
  {
   "cell_type": "code",
   "execution_count": 53,
   "metadata": {},
   "outputs": [
    {
     "data": {
      "text/plain": [
       "(3453, 3)"
      ]
     },
     "execution_count": 53,
     "metadata": {},
     "output_type": "execute_result"
    }
   ],
   "source": [
    "df.shape"
   ]
  },
  {
   "cell_type": "code",
   "execution_count": 54,
   "metadata": {},
   "outputs": [
    {
     "data": {
      "text/plain": [
       "(3453, 3)"
      ]
     },
     "execution_count": 54,
     "metadata": {},
     "output_type": "execute_result"
    }
   ],
   "source": [
    "df.drop_duplicates('url')\n",
    "df.dropna()\n",
    "df.shape"
   ]
  },
  {
   "cell_type": "code",
   "execution_count": 55,
   "metadata": {
    "collapsed": true
   },
   "outputs": [],
   "source": [
    "df.to_csv('../how_to_parse/PerfumesList.csv', index=False, encoding='utf-8')"
   ]
  },
  {
   "cell_type": "code",
   "execution_count": null,
   "metadata": {
    "collapsed": true
   },
   "outputs": [],
   "source": []
  }
 ],
 "metadata": {
  "kernelspec": {
   "display_name": "Python 3",
   "language": "python",
   "name": "python3"
  },
  "language_info": {
   "codemirror_mode": {
    "name": "ipython",
    "version": 3
   },
   "file_extension": ".py",
   "mimetype": "text/x-python",
   "name": "python",
   "nbconvert_exporter": "python",
   "pygments_lexer": "ipython3",
   "version": "3.6.3"
  }
 },
 "nbformat": 4,
 "nbformat_minor": 2
}
