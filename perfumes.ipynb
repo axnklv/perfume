{
 "cells": [
  {
   "cell_type": "markdown",
   "metadata": {},
   "source": [
    "## На рандоме взял страницу с Chanel "
   ]
  },
  {
   "cell_type": "code",
   "execution_count": 2,
   "metadata": {
    "collapsed": true
   },
   "outputs": [],
   "source": [
    "import pandas as pd\n",
    "import requests\n",
    "from lxml import html\n",
    "import xml.etree.ElementTree as ET\n",
    "from time import sleep\n",
    "from tqdm import tqdm\n",
    "import json"
   ]
  },
  {
   "cell_type": "code",
   "execution_count": 3,
   "metadata": {
    "collapsed": true
   },
   "outputs": [],
   "source": [
    "#page = requests.get('https://www.fragrantica.ru/designers/Chanel.html')\n",
    "#data = html.fromstring(page.content)"
   ]
  },
  {
   "cell_type": "markdown",
   "metadata": {},
   "source": [
    "#### Сайт попался <b>вредный</b>, выдаёт код 429. Я как <s>умный</s> русский человек загуглил и увидел, что это значит слишком много запросов. Поэтому будем обманывать."
   ]
  },
  {
   "cell_type": "code",
   "execution_count": 3,
   "metadata": {
    "collapsed": true
   },
   "outputs": [],
   "source": [
    "url = 'https://www.fragrantica.ru/designers/Chanel.html'\n",
    "headers = {'User-Agent': 'Mozilla/5.0 (Macintosh; Intel Mac OS X 10_10_1) AppleWebKit/537.36 (KHTML, like Gecko) \\\n",
    "            Chrome/39.0.2171.95 Safari/537.36'}"
   ]
  },
  {
   "cell_type": "markdown",
   "metadata": {},
   "source": [
    "##### Я знаю, про фэйк юзер эджент, но он почему-то у меня не работает, поэтому пришлось так"
   ]
  },
  {
   "cell_type": "code",
   "execution_count": 4,
   "metadata": {
    "collapsed": true
   },
   "outputs": [],
   "source": [
    "page = requests.get(url, headers=headers)\n",
    "data = html.fromstring(page.content)"
   ]
  },
  {
   "cell_type": "code",
   "execution_count": 5,
   "metadata": {},
   "outputs": [
    {
     "data": {
      "text/plain": [
       "200"
      ]
     },
     "execution_count": 5,
     "metadata": {},
     "output_type": "execute_result"
    }
   ],
   "source": [
    "page.status_code"
   ]
  },
  {
   "cell_type": "code",
   "execution_count": 6,
   "metadata": {
    "collapsed": true
   },
   "outputs": [],
   "source": [
    "aromas_list = data.xpath('//div[@class=\"perfumeslist\"]')\n",
    "gender = data.xpath('//span[@class=\"mtext\"]')"
   ]
  },
  {
   "cell_type": "markdown",
   "metadata": {},
   "source": [
    "##### Видим, что тут всё довольно однообразно. Берём 1 духи и проверям "
   ]
  },
  {
   "cell_type": "code",
   "execution_count": 11,
   "metadata": {},
   "outputs": [
    {
     "name": "stdout",
     "output_type": "stream",
     "text": [
      "Antaeus\n",
      "1981 для мужчин\n"
     ]
    }
   ],
   "source": [
    "for item in aromas_list[0].text_content().split('\\n'):\n",
    "    if item != '':\n",
    "        print(item.strip())"
   ]
  },
  {
   "cell_type": "code",
   "execution_count": 12,
   "metadata": {},
   "outputs": [
    {
     "name": "stdout",
     "output_type": "stream",
     "text": [
      " Antaeus1981 для мужчин\n",
      " Bois Noir1987 для мужчин\n",
      " Chanel No 461946 для женщин\n",
      " Cuir de Russie Parfum1924 для женщин и мужчин\n",
      " Gabrielle2017 для женщин\n",
      " Le 1940 Beige de Chanel1931 для женщин\n",
      " Le 1940 Bleu de Chanel1931 для женщин\n",
      " Le 1940 Rouge de Chanel1931 для женщин\n",
      " Une Fleur de Chanel1998 для женщин\n",
      " Allure1996 для женщин\n",
      " Allure eau de parfum1999 для женщин\n",
      " Allure Eau Fraichissante Pour l`Ete2002 для женщин\n",
      " Allure Hair Mist для женщин\n",
      " Allure Homme Eau Fraichissante Pour l`Ete2002 для мужчин\n",
      " Allure Homme Edition Blanche2008 для мужчин\n",
      " Allure Homme Edition Blanche Eau de Parfum2014 для мужчин\n",
      " Allure Homme Sport2004 для мужчин\n",
      " Allure Homme Sport Cologne2007 для мужчин\n",
      " Allure Homme Sport Eau Extreme2012 для мужчин\n",
      " Allure Parfum для женщин\n",
      " Allure Pour Homme1999 для мужчин\n",
      " Allure Sensuelle2005 для женщин\n",
      " Allure Sensuelle Eau de Toilette2006 для женщин\n",
      " Allure Sensuelle Parfum2006 для женщин\n",
      " Bleu de Chanel2010 для мужчин\n",
      " Bleu de Chanel Eau de Parfum2014 для мужчин\n",
      " Chance Eau de Parfum2002 для женщин\n",
      " Chance Eau de Toilette2003 для женщин\n",
      " Chance Eau Fraiche2007 для женщин\n",
      " Chance Eau Fraiche Hair Mist для женщин\n",
      " Chance Eau Tendre2010 для женщин\n",
      " Chance Eau Tendre Hair Mist для женщин\n",
      " Chance Eau Vive2015 для женщин\n",
      " Chance Eau Vive Hair Mist для женщин\n",
      " Chance Hair Mist для женщин\n",
      " Chance Parfum2015 для женщин\n",
      " Chanel No 19 Eau de Parfum для женщин\n",
      " Chanel No 19 Parfum1970 для женщин\n",
      " Chanel No 19 Poudre2011 для женщин\n",
      " Chanel N°191970 для женщин\n",
      " Chanel No 5 Eau de Cologne1921 для женщин\n",
      " Chanel No 5 Eau de Parfum1986 для женщин\n",
      " Chanel No 5 Eau de Toilette1921 для женщин\n",
      " Chanel No 5 Eau Premiere (2015)2015 для женщин\n",
      " Chanel No 5 Hair Mist для женщин\n",
      " Chanel No 5 L'Eau2016 для женщин\n",
      " Chanel No 5 Parfum1921 для женщин\n",
      " Chanel N°51921 для женщин\n",
      " Chanel N°5 Eau Premiere2007 для женщин\n",
      " Chanel N°5 Elixir Sensuel2004 для женщин\n",
      " Coco Eau de Parfum1984 для женщин\n",
      " Coco Eau de Toilette для женщин\n",
      " Coco Mademoiselle2001 для женщин\n",
      " Coco Mademoiselle Eau de toilette2002 для женщин\n",
      " Coco Mademoiselle Hair Mist для женщин\n",
      " Coco Mademoiselle Intense2018 для женщин\n",
      " Coco Mademoiselle L’Extrait2012 для женщин\n",
      " Coco Mademoiselle Parfum для женщин\n",
      " Coco Noir2012 для женщин\n",
      " Coco Noir Extrait2014 для женщин\n",
      " Coco Parfum для женщин\n",
      " Cristalle Eau de Parfum1993 для женщин\n",
      " Cristalle Eau de Toilette1974 для женщин\n",
      " Cristalle Eau Verte2009 для женщин\n",
      " Egoiste1990 для мужчин\n",
      " Egoiste Cologne Concentree1992 для мужчин\n",
      " Egoiste Platinum1993 для мужчин\n",
      " 1932 Eau de Parfum2016 для женщин\n",
      " 31 Rue Cambon Eau de Parfum2016 для женщин\n",
      " Beige2008 для женщин\n",
      " Beige Eau de Parfum2016 для женщин\n",
      " Bel Respiro Eau de Parfum2016 для женщин и мужчин\n",
      " Bois des Iles1926 для женщин\n",
      " Bois des Iles Eau de Parfum2016 для женщин\n",
      " Boy Chanel2016 для женщин и мужчин\n",
      " Chanel N°221922 для женщин\n",
      " Coromandel Eau de Parfum2016 для женщин и мужчин\n",
      " Cuir de Russie Eau de Parfum2016 для женщин\n",
      " Gardenia1925 для женщин\n",
      " Gardenia Eau de Parfum2016 для женщин\n",
      " Jersey Eau de Parfum2016 для женщин\n",
      " La Pausa Eau de Parfum2016 для женщин\n",
      " Les Exclusifs de Chanel 19322013 для женщин\n",
      " Les Exclusifs de Chanel 1932 Parfum2014 для женщин\n",
      " Les Exclusifs de Chanel 28 La Pausa2007 для женщин\n",
      " Les Exclusifs de Chanel 31 Rue Cambon2007 для женщин\n",
      " Les Exclusifs de Chanel Beige Parfum2014 для женщин\n",
      " Les Exclusifs de Chanel Bel Respiro1920 для женщин\n",
      " Les Exclusifs de Chanel Coromandel для женщин\n",
      " Les Exclusifs de Chanel Cuir de Russie2007 для женщин\n",
      " Les Exclusifs de Chanel Cuir de Russie 19241924 для женщин\n",
      " Les Exclusifs de Chanel Eau de Cologne2007 для женщин\n",
      " Les Exclusifs de Chanel Jersey2011 для женщин\n",
      " Les Exclusifs de Chanel Jersey Parfum2014 для женщин\n",
      " Les Exclusifs de Chanel Misia2015 для женщин\n",
      " Les Exclusifs de Chanel No 181997 для женщин\n",
      " Les Exclusifs de Chanel No 221922 для женщин\n",
      " Misia Eau de Parfum2016 для женщин\n",
      " No 18 Eau de Parfum2016 для женщин\n",
      " No 22 Eau de Parfum2016 для женщин\n",
      " Sycomore2008 для женщин и мужчин\n",
      " Sycomore Eau de Parfum2016 для женщин и мужчин\n",
      " Pour Monsieur1955 для мужчин\n",
      " Pour Monsieur Concentree1989 для мужчин\n",
      " Pour Monsieur Eau de Parfum2016 для мужчин\n"
     ]
    }
   ],
   "source": [
    "for catalog in data.xpath('//div[@class=\"perfumeslist\"]')[0:]:\n",
    "    print(catalog.text_content().replace('\\n',''))"
   ]
  },
  {
   "cell_type": "markdown",
   "metadata": {},
   "source": [
    "#####  Получили список духов с этой страницы, с разделением на М/Ж/Унисекс, но пока только в строке "
   ]
  },
  {
   "cell_type": "code",
   "execution_count": 15,
   "metadata": {
    "collapsed": true
   },
   "outputs": [],
   "source": [
    "def getData(data):\n",
    "    voc = {}\n",
    "    for count,catalog in enumerate(data.xpath('//div[@class=\"perfumeslist\"]')[0:]):\n",
    "        for line in catalog.xpath('div/div/p'):\n",
    "            A = {}\n",
    "            for a in line.xpath('a'):\n",
    "                A['link'] = a.attrib.get('href')\n",
    "                A['title'] = a.text_content().replace('\\n',',')\n",
    "            for span in line.xpath('span'):\n",
    "                mtext = span.text_content().replace('для',';').split(';')\n",
    "                A['year'] = mtext[0].strip()\n",
    "                A['sex'] = mtext[1].strip()\n",
    "            voc[count] = A\n",
    "    return pd.DataFrame.from_dict(voc, orient ='index')"
   ]
  },
  {
   "cell_type": "markdown",
   "metadata": {},
   "source": [
    "#####  Пишем фунцию для забора инфы о духах - название, год и пол. Год и пол лежат в одном, пока хз как разделить "
   ]
  },
  {
   "cell_type": "code",
   "execution_count": 16,
   "metadata": {},
   "outputs": [],
   "source": [
    "perfumes = getData(data)"
   ]
  },
  {
   "cell_type": "markdown",
   "metadata": {},
   "source": [
    "#####  И тут заметил, что <b>всё не так просто.</b> Имею в виду, что название духов не выведено в отдельный блок по всем духам. Названию каждый духой соответствует линк на них. Пока хз как это поправить, чтобы вместо отдельного линка у каждых, был бы единый столбец 'name', подобно 'mtext'."
   ]
  },
  {
   "cell_type": "code",
   "execution_count": 17,
   "metadata": {
    "scrolled": true
   },
   "outputs": [
    {
     "data": {
      "text/html": [
       "<div>\n",
       "<style>\n",
       "    .dataframe thead tr:only-child th {\n",
       "        text-align: right;\n",
       "    }\n",
       "\n",
       "    .dataframe thead th {\n",
       "        text-align: left;\n",
       "    }\n",
       "\n",
       "    .dataframe tbody tr th {\n",
       "        vertical-align: top;\n",
       "    }\n",
       "</style>\n",
       "<table border=\"1\" class=\"dataframe\">\n",
       "  <thead>\n",
       "    <tr style=\"text-align: right;\">\n",
       "      <th></th>\n",
       "      <th>link</th>\n",
       "      <th>title</th>\n",
       "      <th>year</th>\n",
       "      <th>sex</th>\n",
       "    </tr>\n",
       "  </thead>\n",
       "  <tbody>\n",
       "    <tr>\n",
       "      <th>0</th>\n",
       "      <td>/perfume/Chanel/Antaeus-616.html</td>\n",
       "      <td>Antaeus</td>\n",
       "      <td>1981</td>\n",
       "      <td>мужчин</td>\n",
       "    </tr>\n",
       "    <tr>\n",
       "      <th>1</th>\n",
       "      <td>/perfume/Chanel/Bois-Noir-34568.html</td>\n",
       "      <td>Bois Noir</td>\n",
       "      <td>1987</td>\n",
       "      <td>мужчин</td>\n",
       "    </tr>\n",
       "    <tr>\n",
       "      <th>2</th>\n",
       "      <td>/perfume/Chanel/Chanel-No-46-22520.html</td>\n",
       "      <td>Chanel No 46</td>\n",
       "      <td>1946</td>\n",
       "      <td>женщин</td>\n",
       "    </tr>\n",
       "    <tr>\n",
       "      <th>3</th>\n",
       "      <td>/perfume/Chanel/Cuir-de-Russie-Parfum-47794.html</td>\n",
       "      <td>Cuir de Russie Parfum</td>\n",
       "      <td>1924</td>\n",
       "      <td>женщин и мужчин</td>\n",
       "    </tr>\n",
       "    <tr>\n",
       "      <th>4</th>\n",
       "      <td>/perfume/Chanel/Gabrielle-43718.html</td>\n",
       "      <td>Gabrielle</td>\n",
       "      <td>2017</td>\n",
       "      <td>женщин</td>\n",
       "    </tr>\n",
       "  </tbody>\n",
       "</table>\n",
       "</div>"
      ],
      "text/plain": [
       "                                               link                   title  \\\n",
       "0                  /perfume/Chanel/Antaeus-616.html                 Antaeus   \n",
       "1              /perfume/Chanel/Bois-Noir-34568.html               Bois Noir   \n",
       "2           /perfume/Chanel/Chanel-No-46-22520.html            Chanel No 46   \n",
       "3  /perfume/Chanel/Cuir-de-Russie-Parfum-47794.html   Cuir de Russie Parfum   \n",
       "4              /perfume/Chanel/Gabrielle-43718.html               Gabrielle   \n",
       "\n",
       "   year              sex  \n",
       "0  1981           мужчин  \n",
       "1  1987           мужчин  \n",
       "2  1946           женщин  \n",
       "3  1924  женщин и мужчин  \n",
       "4  2017           женщин  "
      ]
     },
     "execution_count": 17,
     "metadata": {},
     "output_type": "execute_result"
    }
   ],
   "source": [
    "df = perfumes.copy()\n",
    "df.dropna()\n",
    "df.head()"
   ]
  },
  {
   "cell_type": "markdown",
   "metadata": {
    "collapsed": true
   },
   "source": [
    "##### Вполне логично, что пандас <s> умнее меня </s> делает для каждого уникального линка уникальный столбец, тем самым получаем 105 колонок)))))) "
   ]
  },
  {
   "cell_type": "code",
   "execution_count": 18,
   "metadata": {},
   "outputs": [
    {
     "data": {
      "text/plain": [
       "(105, 4)"
      ]
     },
     "execution_count": 18,
     "metadata": {},
     "output_type": "execute_result"
    }
   ],
   "source": [
    "df.shape"
   ]
  },
  {
   "cell_type": "code",
   "execution_count": null,
   "metadata": {
    "collapsed": true
   },
   "outputs": [],
   "source": []
  }
 ],
 "metadata": {
  "kernelspec": {
   "display_name": "Python 3",
   "language": "python",
   "name": "python3"
  },
  "language_info": {
   "codemirror_mode": {
    "name": "ipython",
    "version": 3
   },
   "file_extension": ".py",
   "mimetype": "text/x-python",
   "name": "python",
   "nbconvert_exporter": "python",
   "pygments_lexer": "ipython3",
   "version": "3.6.3"
  }
 },
 "nbformat": 4,
 "nbformat_minor": 2
}
