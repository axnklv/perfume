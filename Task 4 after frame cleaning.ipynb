{
 "cells": [
  {
   "cell_type": "code",
   "execution_count": 1,
   "metadata": {
    "collapsed": true
   },
   "outputs": [],
   "source": [
    "import pandas as pd"
   ]
  },
  {
   "cell_type": "code",
   "execution_count": 2,
   "metadata": {
    "collapsed": true
   },
   "outputs": [],
   "source": [
    "pp_data_clear = pd.read_csv('pp_data_clear.csv')\n",
    "fg_data = pd.read_csv('fg_data.csv')"
   ]
  },
  {
   "cell_type": "code",
   "execution_count": 3,
   "metadata": {},
   "outputs": [
    {
     "data": {
      "text/html": [
       "<div>\n",
       "<style>\n",
       "    .dataframe thead tr:only-child th {\n",
       "        text-align: right;\n",
       "    }\n",
       "\n",
       "    .dataframe thead th {\n",
       "        text-align: left;\n",
       "    }\n",
       "\n",
       "    .dataframe tbody tr th {\n",
       "        vertical-align: top;\n",
       "    }\n",
       "</style>\n",
       "<table border=\"1\" class=\"dataframe\">\n",
       "  <thead>\n",
       "    <tr style=\"text-align: right;\">\n",
       "      <th></th>\n",
       "      <th>link</th>\n",
       "      <th>name</th>\n",
       "      <th>sex</th>\n",
       "      <th>url_brand</th>\n",
       "      <th>year</th>\n",
       "    </tr>\n",
       "  </thead>\n",
       "  <tbody>\n",
       "    <tr>\n",
       "      <th>0</th>\n",
       "      <td>/perfume/Abercrombie-Fitch/AbercrombieHOT-2246...</td>\n",
       "      <td>AbercrombieHOT</td>\n",
       "      <td>м</td>\n",
       "      <td>/designers/Abercrombie-%26-Fitch.html</td>\n",
       "      <td>2013</td>\n",
       "    </tr>\n",
       "    <tr>\n",
       "      <th>1</th>\n",
       "      <td>/perfume/Abercrombie-Fitch/Batch-No-46-38010.html</td>\n",
       "      <td>Batch No. 46</td>\n",
       "      <td>м</td>\n",
       "      <td>/designers/Abercrombie-%26-Fitch.html</td>\n",
       "      <td>2015</td>\n",
       "    </tr>\n",
       "  </tbody>\n",
       "</table>\n",
       "</div>"
      ],
      "text/plain": [
       "                                                link             name sex  \\\n",
       "0  /perfume/Abercrombie-Fitch/AbercrombieHOT-2246...   AbercrombieHOT   м   \n",
       "1  /perfume/Abercrombie-Fitch/Batch-No-46-38010.html     Batch No. 46   м   \n",
       "\n",
       "                               url_brand  year  \n",
       "0  /designers/Abercrombie-%26-Fitch.html  2013  \n",
       "1  /designers/Abercrombie-%26-Fitch.html  2015  "
      ]
     },
     "execution_count": 3,
     "metadata": {},
     "output_type": "execute_result"
    }
   ],
   "source": [
    "fg_data.head(2)"
   ]
  },
  {
   "cell_type": "code",
   "execution_count": 4,
   "metadata": {},
   "outputs": [
    {
     "name": "stdout",
     "output_type": "stream",
     "text": [
      "<class 'pandas.core.frame.DataFrame'>\n",
      "RangeIndex: 4779 entries, 0 to 4778\n",
      "Data columns (total 28 columns):\n",
      "available                4779 non-null bool\n",
      "categoryId               4779 non-null int64\n",
      "country_of_origin        4493 non-null object\n",
      "cpa                      4779 non-null int64\n",
      "currencyId               4779 non-null object\n",
      "delivery                 4779 non-null bool\n",
      "description              31 non-null object\n",
      "family                   4138 non-null object\n",
      "id                       4779 non-null int64\n",
      "manufacturer_warranty    4779 non-null bool\n",
      "clearModel               4779 non-null object\n",
      "name                     4779 non-null object\n",
      "oldprice                 989 non-null float64\n",
      "pickup                   4779 non-null bool\n",
      "picture                  4779 non-null object\n",
      "price                    4779 non-null int64\n",
      "probnik                  70 non-null object\n",
      "sex                      4779 non-null object\n",
      "start_year               4163 non-null float64\n",
      "store                    4779 non-null bool\n",
      "tester                   1164 non-null object\n",
      "type                     4779 non-null object\n",
      "typePrefix               4779 non-null object\n",
      "unit                     4676 non-null object\n",
      "url                      4779 non-null object\n",
      "vendor                   4779 non-null object\n",
      "vendorCode               4779 non-null int64\n",
      "vol                      4676 non-null object\n",
      "dtypes: bool(5), float64(2), int64(5), object(16)\n",
      "memory usage: 882.1+ KB\n"
     ]
    }
   ],
   "source": [
    "pp_data_clear.info()"
   ]
  },
  {
   "cell_type": "code",
   "execution_count": 5,
   "metadata": {
    "collapsed": true
   },
   "outputs": [],
   "source": [
    "agg_data = pp_data_clear.merge(fg_data, on='name')"
   ]
  },
  {
   "cell_type": "code",
   "execution_count": 6,
   "metadata": {},
   "outputs": [
    {
     "data": {
      "text/html": [
       "<div>\n",
       "<style>\n",
       "    .dataframe thead tr:only-child th {\n",
       "        text-align: right;\n",
       "    }\n",
       "\n",
       "    .dataframe thead th {\n",
       "        text-align: left;\n",
       "    }\n",
       "\n",
       "    .dataframe tbody tr th {\n",
       "        vertical-align: top;\n",
       "    }\n",
       "</style>\n",
       "<table border=\"1\" class=\"dataframe\">\n",
       "  <thead>\n",
       "    <tr style=\"text-align: right;\">\n",
       "      <th></th>\n",
       "      <th>available</th>\n",
       "      <th>categoryId</th>\n",
       "      <th>country_of_origin</th>\n",
       "      <th>cpa</th>\n",
       "      <th>currencyId</th>\n",
       "      <th>delivery</th>\n",
       "      <th>description</th>\n",
       "      <th>family</th>\n",
       "      <th>id</th>\n",
       "      <th>manufacturer_warranty</th>\n",
       "      <th>...</th>\n",
       "      <th>typePrefix</th>\n",
       "      <th>unit</th>\n",
       "      <th>url</th>\n",
       "      <th>vendor</th>\n",
       "      <th>vendorCode</th>\n",
       "      <th>vol</th>\n",
       "      <th>link</th>\n",
       "      <th>sex_y</th>\n",
       "      <th>url_brand</th>\n",
       "      <th>year</th>\n",
       "    </tr>\n",
       "  </thead>\n",
       "  <tbody>\n",
       "  </tbody>\n",
       "</table>\n",
       "<p>0 rows × 32 columns</p>\n",
       "</div>"
      ],
      "text/plain": [
       "Empty DataFrame\n",
       "Columns: [available, categoryId, country_of_origin, cpa, currencyId, delivery, description, family, id, manufacturer_warranty, clearModel, name, oldprice, pickup, picture, price, probnik, sex_x, start_year, store, tester, type, typePrefix, unit, url, vendor, vendorCode, vol, link, sex_y, url_brand, year]\n",
       "Index: []\n",
       "\n",
       "[0 rows x 32 columns]"
      ]
     },
     "execution_count": 6,
     "metadata": {},
     "output_type": "execute_result"
    }
   ],
   "source": [
    "agg_data.head()"
   ]
  },
  {
   "cell_type": "markdown",
   "metadata": {},
   "source": [
    "# Я всё."
   ]
  }
 ],
 "metadata": {
  "kernelspec": {
   "display_name": "Python 3",
   "language": "python",
   "name": "python3"
  },
  "language_info": {
   "codemirror_mode": {
    "name": "ipython",
    "version": 3
   },
   "file_extension": ".py",
   "mimetype": "text/x-python",
   "name": "python",
   "nbconvert_exporter": "python",
   "pygments_lexer": "ipython3",
   "version": "3.6.3"
  }
 },
 "nbformat": 4,
 "nbformat_minor": 2
}
